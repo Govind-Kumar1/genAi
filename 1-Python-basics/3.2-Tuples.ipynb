{
 "cells": [
  {
   "cell_type": "markdown",
   "id": "6bfa0123",
   "metadata": {},
   "source": [
    "Introduction to Tuples"
   ]
  },
  {
   "cell_type": "code",
   "execution_count": null,
   "id": "49220af7",
   "metadata": {},
   "outputs": [],
   "source": [
    "empty_tuple = ()"
   ]
  },
  {
   "cell_type": "code",
   "execution_count": 1,
   "id": "ef33170c",
   "metadata": {},
   "outputs": [
    {
     "name": "stdout",
     "output_type": "stream",
     "text": [
      "()\n",
      "<class 'tuple'>\n"
     ]
    }
   ],
   "source": [
    "empty_tuple = ();\n",
    "print(empty_tuple)\n",
    "print(type(empty_tuple))"
   ]
  },
  {
   "cell_type": "code",
   "execution_count": 2,
   "id": "98de5426",
   "metadata": {},
   "outputs": [
    {
     "name": "stdout",
     "output_type": "stream",
     "text": [
      "<class 'list'>\n",
      "<class 'tuple'>\n"
     ]
    }
   ],
   "source": [
    "lst = list()\n",
    "print(type(lst))\n",
    "tpt = tuple()\n",
    "print(type(tpt))"
   ]
  },
  {
   "cell_type": "code",
   "execution_count": 8,
   "id": "e7663168",
   "metadata": {},
   "outputs": [
    {
     "name": "stdout",
     "output_type": "stream",
     "text": [
      "1\n",
      "(2, 3)\n",
      "(1, 2, 3, 4, 5, 6, 7, 8)\n",
      "(1, 2, 3, 4, 5, 1, 2, 3, 4, 5)\n",
      "True\n",
      "False\n",
      "5\n",
      "1 2 3 4 5 (1, 2, 3, 4, 5)\n",
      "1 2 3 4 5\n",
      "(1, (2, 3), (4, 5))\n"
     ]
    }
   ],
   "source": [
    "## tuple operations\n",
    "tpt = (1, 2, 3, 4, 5)\n",
    "print(tpt[0])  # Accessing first element\n",
    "print(tpt[1:3])  # Slicing from index 1 to 2\n",
    "\n",
    "##concatenation\n",
    "tpt2 = (6, 7, 8)\n",
    "tpt3 = tpt + tpt2\n",
    "print(tpt3)  # Output: (1, 2, 3, 4, 5, 6, 7, 8)\n",
    "## repetition\n",
    "tpt4 = tpt * 2\n",
    "print(tpt4)  # Output: (1, 2, 3, 4, 5, 1, 2, 3, 4, 5)\n",
    "## membership\n",
    "print(3 in tpt)  # Output: True\n",
    "\n",
    "print(10 in tpt)  # Output: False\n",
    "# Length of tuple\n",
    "print(len(tpt))  # Output: 5\n",
    "# Iterating through a tuple\n",
    "for item in tpt:\n",
    "    print(item, end=' ')  # Output: 1 2 3 4 5\n",
    "    ## packing and unpacking\n",
    "# Packing a tuple\n",
    "tpt = 1, 2, 3, 4, 5\n",
    "print(tpt)  # Output: (1, 2, 3, 4, 5)\n",
    "# Tuple unpacking\n",
    "a, b, c, d, e = tpt\n",
    "print(a, b, c, d, e)  # Output: 1 2 3 4 5\n",
    "# Nested tuples\n",
    "nested_tpt = (1, (2, 3), (4, 5))\n",
    "print(nested_tpt)  # Output: (1, (2, 3), (4, 5))"
   ]
  },
  {
   "cell_type": "code",
   "execution_count": 5,
   "id": "b53623f2",
   "metadata": {},
   "outputs": [
    {
     "name": "stdout",
     "output_type": "stream",
     "text": [
      "Error: 'tuple' object does not support item assignment\n"
     ]
    }
   ],
   "source": [
    "##immutable nature of tuples\n",
    "try:\n",
    "    tpt[0] = 10  # Attempting to change the first element\n",
    "except TypeError as e:\n",
    "    print(f\"Error: {e}\")\n",
    "# Output: Error: 'tuple' object does not support item assignment\n"
   ]
  },
  {
   "cell_type": "code",
   "execution_count": 7,
   "id": "ed2cbb1e",
   "metadata": {},
   "outputs": [
    {
     "name": "stdout",
     "output_type": "stream",
     "text": [
      "2\n",
      "2\n"
     ]
    }
   ],
   "source": [
    "## tuple methods\n",
    "tpt = (1, 2, 3, 4, 5, 1)\n",
    "print(tpt.count(1))  # Output: 2 (count of 1 in the tuple)\n",
    "print(tpt.index(3))  # Output: 2 (index of first occurrence of 3)\n"
   ]
  },
  {
   "cell_type": "code",
   "execution_count": 10,
   "id": "a44de546",
   "metadata": {},
   "outputs": [
    {
     "data": {
      "text/plain": [
       "2"
      ]
     },
     "execution_count": 10,
     "metadata": {},
     "output_type": "execute_result"
    }
   ],
   "source": [
    "##nested list\n",
    "nested_list = [[1, 2], [4, 5, 6], [\"hello\", 8, 9]]\n",
    "nested_list[0][1]\n"
   ]
  },
  {
   "cell_type": "markdown",
   "id": "8f607952",
   "metadata": {},
   "source": [
    "### Conclusion\n",
    "# Tuples are immutable sequences in Python, useful for fixed collections of items.\n",
    "# They support various operations like concatenation, repetition, and membership testing.\n",
    "# Tuples can be nested, and they can be unpacked into variables.\n",
    "# Tuples are defined using parentheses, and they can be created using the tuple() constructor.\n",
    "# Attempting to modify a tuple raises a TypeError.\n",
    "# Tuples have methods like count() and index() for counting occurrences and finding indices.\n",
    "# Tuples are often used for fixed collections of items, such as coordinates or RGB values.\n",
    "# They are also commonly used in function return values to return multiple values.\n",
    "# Tuples are generally faster than lists for fixed-size collections due to their immutability."
   ]
  },
  {
   "cell_type": "code",
   "execution_count": null,
   "id": "62ef8003",
   "metadata": {},
   "outputs": [],
   "source": []
  }
 ],
 "metadata": {
  "kernelspec": {
   "display_name": "Python 3",
   "language": "python",
   "name": "python3"
  },
  "language_info": {
   "codemirror_mode": {
    "name": "ipython",
    "version": 3
   },
   "file_extension": ".py",
   "mimetype": "text/x-python",
   "name": "python",
   "nbconvert_exporter": "python",
   "pygments_lexer": "ipython3",
   "version": "3.12.0"
  }
 },
 "nbformat": 4,
 "nbformat_minor": 5
}

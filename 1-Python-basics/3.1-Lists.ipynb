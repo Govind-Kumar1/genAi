{
 "cells": [
  {
   "cell_type": "code",
   "execution_count": 1,
   "id": "3d3e3e84",
   "metadata": {},
   "outputs": [
    {
     "name": "stdout",
     "output_type": "stream",
     "text": [
      "1\n"
     ]
    }
   ],
   "source": [
    "## list\n",
    "# A list is a collection of items in a particular order.\n",
    "# Lists are mutable, meaning you can change their content without changing their identity.\n",
    "lst = [1, 2, 3, 4, 5]\n",
    "print(lst[0]) # 1\n"
   ]
  },
  {
   "cell_type": "code",
   "execution_count": 2,
   "id": "2245a55e",
   "metadata": {},
   "outputs": [
    {
     "name": "stdout",
     "output_type": "stream",
     "text": [
      "<class 'list'>\n"
     ]
    }
   ],
   "source": [
    "lst = []\n",
    "print(type(lst))"
   ]
  },
  {
   "cell_type": "code",
   "execution_count": 8,
   "id": "4e24c65d",
   "metadata": {},
   "outputs": [
    {
     "name": "stdout",
     "output_type": "stream",
     "text": [
      "['Govind', 'Geeta', 'Ravi', 'Kiran']\n",
      "Govind\n"
     ]
    }
   ],
   "source": [
    "names = [\"Govind\", \"Geeta\", \"Ravi\", \"Kiran\"]\n",
    "print(names) # ['Govind', 'Geeta', 'Ravi', 'Kiran']\n",
    "print(names[0]) # Govind"
   ]
  },
  {
   "cell_type": "code",
   "execution_count": 11,
   "id": "bb12eff1",
   "metadata": {},
   "outputs": [
    {
     "name": "stdout",
     "output_type": "stream",
     "text": [
      "Govind\n",
      "Geeta\n",
      "Kiran\n",
      "['Geeta', 'Ravi']\n",
      "['Geeta', 'Ravi', 'Kiran']\n"
     ]
    }
   ],
   "source": [
    "### accessing list elements\n",
    "print(names[0]) # Govind\n",
    "print(names[1]) # Geeta\n",
    "print(names[-1]) # Kiran\n",
    "print(names[1:3]) # ['Geeta', 'Ravi']\n",
    "print(names[1:]) # ['Geeta', 'Ravi', 'Kiran']"
   ]
  },
  {
   "cell_type": "code",
   "execution_count": 19,
   "id": "ce155db1",
   "metadata": {},
   "outputs": [
    {
     "name": "stdout",
     "output_type": "stream",
     "text": [
      "hasattr\n"
     ]
    }
   ],
   "source": [
    "print(\"hasattr\")"
   ]
  },
  {
   "cell_type": "code",
   "execution_count": 20,
   "id": "6c7b7c2c",
   "metadata": {},
   "outputs": [
    {
     "name": "stdout",
     "output_type": "stream",
     "text": [
      "['Govind', 'Kumar', 'Kumar', 'Kumar', 'Kumar', 'K', 'u', 'm', 'a', 'r', 'Kumar', 'Kumar', 'Kumar', 'Kumar']\n"
     ]
    }
   ],
   "source": [
    "print(names)"
   ]
  },
  {
   "cell_type": "code",
   "execution_count": 22,
   "id": "083703bd",
   "metadata": {},
   "outputs": [
    {
     "name": "stdout",
     "output_type": "stream",
     "text": [
      "['apple', 'kiwi', 'banana', 'cherry', 'orange']\n"
     ]
    }
   ],
   "source": [
    "fruits = [\"apple\", \"banana\", \"cherry\"]\n",
    "\n",
    "fruits.append(\"orange\")\n",
    "\n",
    "fruits.insert(1, \"kiwi\")\n",
    "\n",
    "\n",
    "print(fruits)"
   ]
  },
  {
   "cell_type": "code",
   "execution_count": 23,
   "id": "be21c468",
   "metadata": {},
   "outputs": [
    {
     "name": "stdout",
     "output_type": "stream",
     "text": [
      "kiwi\n",
      "['apple', 'banana', 'cherry', 'orange']\n"
     ]
    }
   ],
   "source": [
    "## Remove and return the list\n",
    "popped_fruit = fruits.pop(1) # remove the item at index 1 and return it\n",
    "print(popped_fruit) # kiwi\n",
    "print(fruits) # ['apple', 'banana', 'orange']"
   ]
  },
  {
   "cell_type": "code",
   "execution_count": 24,
   "id": "77c98fbe",
   "metadata": {},
   "outputs": [
    {
     "name": "stdout",
     "output_type": "stream",
     "text": [
      "['banana', 'cherry']\n"
     ]
    }
   ],
   "source": [
    "## slicing lists\n",
    "print(fruits[1:3]) # ['banana', 'orange']"
   ]
  },
  {
   "cell_type": "code",
   "execution_count": 25,
   "id": "5171dca9",
   "metadata": {},
   "outputs": [
    {
     "name": "stdout",
     "output_type": "stream",
     "text": [
      "apple\n",
      "banana\n",
      "cherry\n",
      "orange\n"
     ]
    }
   ],
   "source": [
    "### iterating through a list\n",
    "for fruit in fruits:\n",
    "    print(fruit) # apple banana orange"
   ]
  },
  {
   "cell_type": "code",
   "execution_count": 26,
   "id": "a9f8591d",
   "metadata": {},
   "outputs": [
    {
     "name": "stdout",
     "output_type": "stream",
     "text": [
      "[0, 1, 4, 9, 16, 25, 36, 49, 64, 81]\n"
     ]
    }
   ],
   "source": [
    "## list comprehension\n",
    "squares = [x**2 for x in range(10)]\n",
    "print(squares) # [0, 1, 4, 9, 16, 25, 36, 49, 64, 81]\n"
   ]
  },
  {
   "cell_type": "code",
   "execution_count": 27,
   "id": "9b04b7f9",
   "metadata": {},
   "outputs": [
    {
     "name": "stdout",
     "output_type": "stream",
     "text": [
      "[[0, 1, 2], [0, 1, 2], [0, 1, 2]]\n"
     ]
    }
   ],
   "source": [
    "## Nested list Comprehension\n",
    "nested_list = [[x for x in range(3)] for y in range(3)]\n",
    "print(nested_list) # [[0, 1, 2], [0, 1, 2], [0, 1, 2]]"
   ]
  },
  {
   "cell_type": "code",
   "execution_count": null,
   "id": "8dcbb696",
   "metadata": {},
   "outputs": [],
   "source": []
  }
 ],
 "metadata": {
  "kernelspec": {
   "display_name": "Python 3",
   "language": "python",
   "name": "python3"
  },
  "language_info": {
   "codemirror_mode": {
    "name": "ipython",
    "version": 3
   },
   "file_extension": ".py",
   "mimetype": "text/x-python",
   "name": "python",
   "nbconvert_exporter": "python",
   "pygments_lexer": "ipython3",
   "version": "3.12.0"
  }
 },
 "nbformat": 4,
 "nbformat_minor": 5
}

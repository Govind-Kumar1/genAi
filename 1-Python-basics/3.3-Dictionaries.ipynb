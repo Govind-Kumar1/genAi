{
 "cells": [
  {
   "cell_type": "code",
   "execution_count": 1,
   "id": "4cd5b3af",
   "metadata": {},
   "outputs": [],
   "source": [
    "### Introduction to Dictionaries\n",
    "# Dictionaries are a collection of key-value pairs.\n",
    "# Each key is unique and maps to a value.\n",
    "# They are defined using curly braces `{}`.\n",
    "# Example of a dictionary:\n",
    "my_dict = {\n",
    "    \"name\": \"Alice\",\n",
    "    \"age\": 30,\n",
    "    \"city\": \"New York\"\n",
    "}"
   ]
  },
  {
   "cell_type": "code",
   "execution_count": 2,
   "id": "c5e6b9b3",
   "metadata": {},
   "outputs": [
    {
     "name": "stdout",
     "output_type": "stream",
     "text": [
      "Alice\n",
      "30\n",
      "None\n",
      "Not Found\n",
      "31\n",
      "True\n",
      "False\n",
      "name Alice\n",
      "country USA\n",
      "name: Alice\n",
      "country: USA\n"
     ]
    }
   ],
   "source": [
    "empty_dict = {}  # An empty dictionary\n",
    "# You can also create a dictionary using the `dict()` constructor.\n",
    "another_dict = dict(name=\"Bob\", age=25, city=\"Los Angeles\")\n",
    "# Accessing values in a dictionary is done using the key.\n",
    "print(my_dict[\"name\"])  # Output: Alice\n",
    "print(my_dict[\"age\"])   # Output: 30\n",
    "# If you try to access a key that doesn't exist, it will raise a KeyError.\n",
    "# To avoid this, you can use the `get()` method which returns None if the key is not found.\n",
    "print(my_dict.get(\"country\"))  # Output: None\n",
    "\n",
    "# You can also provide a default value to the `get()` method.\n",
    "print(my_dict.get(\"country\", \"Not Found\"))  # Output: Not Found\n",
    "# Adding or updating key-value pairs in a dictionary is straightforward.\n",
    "\n",
    "my_dict[\"country\"] = \"USA\"  # Adding a new key-value pair\n",
    "my_dict[\"age\"] = 31  # Updating an existing key-value pair\n",
    "\n",
    "# You can delete a key-value pair using the `del` statement.\n",
    "del my_dict[\"city\"]  # This will remove the key \"city\" and its value\n",
    "\n",
    "# You can also use the `pop()` method to remove a key-value pair and return its value.\n",
    "removed_value = my_dict.pop(\"age\")  # This will remove \"age\" and return its value\n",
    "print(removed_value)  # Output: 31\n",
    "\n",
    "# To check if a key exists in a dictionary, you can use the `in` keyword.\n",
    "print(\"name\" in my_dict)  # Output: True\n",
    "print(\"city\" in my_dict)  # Output: False\n",
    "\n",
    "# You can iterate over the keys, values, or key-value pairs in a dictionary.\n",
    "for key in my_dict:\n",
    "    print(key, my_dict[key])  # Prints each key and its corresponding value\n",
    "for key, value in my_dict.items():\n",
    "    print(f\"{key}: {value}\")  # Prints each key-value pair\n",
    "# You can also get a list of all keys or values in a dictionary.\n",
    "keys_list = list(my_dict.keys())  # List of keys\n",
    "values_list = list(my_dict.values())  # List of values\n",
    "    "
   ]
  },
  {
   "cell_type": "code",
   "execution_count": null,
   "id": "64ea4197",
   "metadata": {},
   "outputs": [],
   "source": []
  }
 ],
 "metadata": {
  "kernelspec": {
   "display_name": "Python 3",
   "language": "python",
   "name": "python3"
  },
  "language_info": {
   "codemirror_mode": {
    "name": "ipython",
    "version": 3
   },
   "file_extension": ".py",
   "mimetype": "text/x-python",
   "name": "python",
   "nbconvert_exporter": "python",
   "pygments_lexer": "ipython3",
   "version": "3.12.0"
  }
 },
 "nbformat": 4,
 "nbformat_minor": 5
}

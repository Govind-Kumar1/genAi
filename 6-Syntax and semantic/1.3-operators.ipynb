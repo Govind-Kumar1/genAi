{
 "cells": [
  {
   "cell_type": "code",
   "execution_count": 1,
   "id": "1362c3b2",
   "metadata": {},
   "outputs": [],
   "source": [
    "## Operators in python\n",
    "# Operators are special symbols in Python that perform operations on variables and values.\n",
    "\n",
    "# Python divides the operators in the following groups:\n",
    "# 1. Arithmetic operators\n",
    "# 2. Assignment operators\n",
    "# 3. Comparison operators\n",
    "# 4. Logical operators\n",
    "# 5. Identity operators\n",
    "# 6. Membership operators\n",
    "# 7. Bitwise operators\n",
    "# 8. Special operators\n",
    "# 9. Ternary operator\n",
    "# 10. Operator precedence\n",
    "# 11. Operator associativity\n",
    "# 12. Operator overloading\n",
    "# 13. Operator functions\n",
    "# 14. Operator module\n",
    "# 15. Operator precedence rules\n",
    "# 16. Operator precedence table\n",
    "# 17. Operator precedence examples\n",
    "\n",
    "# 1. Arithmetic operators\n",
    "# Arithmetic operators are used to perform mathematical operations like addition, subtraction, multiplication, and division.\n",
    "# The following are the arithmetic operators in Python:\n",
    "# 1. Addition (+)\n",
    "# 2. Subtraction (-)\n",
    "# 3. Multiplication (*)\n",
    "# 4. Division (/)\n",
    "# 5. Modulus (%)\n",
    "# 6. Exponentiation (**)\n",
    "# 7. Floor division (//)\n",
    "# 8. Unary plus (+)\n",
    "# 9. Unary minus (-)\n",
    "\n",
    "# 2. Assignment operators\n",
    "# Assignment operators are used to assign values to variables. The following are the assignment operators in Python:\n",
    "# 1. Assignment (=)\n",
    "# 2. Add and assign (+=)\n",
    "# 3. Subtract and assign (-=)\n",
    "# 4. Multiply and assign (*=)\n",
    "# 5. Divide and assign (/=)\n",
    "# 6. Modulus and assign (%=)\n",
    "# 7. Exponentiation and assign (**=)\n",
    "# 8. Floor division and assign (//=)\n",
    "# 9. Bitwise AND and assign (&=)\n",
    "# 10. Bitwise OR and assign (|=)\n",
    "\n",
    "# 3. Comparison operators\n",
    "# Comparison operators are used to compare two values. The following are the comparison operators in Python:\n",
    "# 1. Equal to (==)\n",
    "# 2. Not equal to (!=)\n",
    "# 3. Greater than (>)\n",
    "# 4. Less than (<)\n",
    "\n",
    "\n"
   ]
  },
  {
   "cell_type": "code",
   "execution_count": null,
   "id": "9e67bb48",
   "metadata": {},
   "outputs": [],
   "source": []
  }
 ],
 "metadata": {
  "kernelspec": {
   "display_name": "Python 3",
   "language": "python",
   "name": "python3"
  },
  "language_info": {
   "codemirror_mode": {
    "name": "ipython",
    "version": 3
   },
   "file_extension": ".py",
   "mimetype": "text/x-python",
   "name": "python",
   "nbconvert_exporter": "python",
   "pygments_lexer": "ipython3",
   "version": "3.12.0"
  }
 },
 "nbformat": 4,
 "nbformat_minor": 5
}

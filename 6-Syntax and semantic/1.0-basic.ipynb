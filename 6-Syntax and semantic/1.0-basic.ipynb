{
 "cells": [
  {
   "cell_type": "markdown",
   "id": "5c21e23e",
   "metadata": {},
   "source": [
    "###Basic Syntax Rules in Python\n",
    "###Case sensitivity: Python is case sensitive. For example, the variable names \"age\" and \"Age\" are different.\n",
    "###Indentation: Python uses indentation to define blocks of code. For example, in loops and functions, the code inside the block is indented.\n",
    "###Comments: Comments in Python start with a \"#\" symbol. They are ignored by the interpreter and are used to explain the code.\n",
    "###String: A string is a sequence of characters enclosed in quotes. For example, \"Hello, World!\" is a string.\n",
    "###Variables: Variables are used to store data. In Python, you can create a variable by assigning a value to it using the \"=\" operator. For example, age = 25 creates a variable named \"age\" and assigns it the value 25.\n",
    "###Data Types: Python has several built-in data types, including integers, floats, strings, lists, tuples, and dictionaries. Each data type has its own characteristics and methods.\n",
    "###Operators: Python supports various operators, including arithmetic operators (+, -, *, /), comparison operators (==, !=, <, >), and logical operators (and, or, not). These operators are used to perform operations on variables and values."
   ]
  },
  {
   "cell_type": "code",
   "execution_count": 1,
   "id": "55a46cd2",
   "metadata": {},
   "outputs": [
    {
     "name": "stdout",
     "output_type": "stream",
     "text": [
      "Govind\n",
      "Govind\n"
     ]
    }
   ],
   "source": [
    "name  = \"Govind\"\n",
    "Name =\"Govind\"\n",
    "print(name)\n",
    "print(Name)\n"
   ]
  },
  {
   "cell_type": "code",
   "execution_count": 2,
   "id": "c193fd7f",
   "metadata": {},
   "outputs": [
    {
     "name": "stdout",
     "output_type": "stream",
     "text": [
      "Your age is greater than 30\n",
      "32\n"
     ]
    }
   ],
   "source": [
    "##Indentation\n",
    "age =32\n",
    "if age>30:\n",
    "    print(\"Your age is greater than 30\")\n",
    "print(age)"
   ]
  },
  {
   "cell_type": "code",
   "execution_count": 3,
   "id": "b2542cce",
   "metadata": {},
   "outputs": [
    {
     "name": "stdout",
     "output_type": "stream",
     "text": [
      "1200\n"
     ]
    }
   ],
   "source": [
    "##line Continuation\n",
    "##zuse a backslash to continue a line\n",
    "a = 10 + 20 + 30 + 40 + 50 + 60 + 70 + 80 + 90 + 100 + \\\n",
    "    110 + 120 + 130 + 140 + 150\n",
    "\n",
    "print(a)"
   ]
  },
  {
   "cell_type": "code",
   "execution_count": 4,
   "id": "739a95b4",
   "metadata": {},
   "outputs": [
    {
     "name": "stdout",
     "output_type": "stream",
     "text": [
      "Correct Indentation\n",
      "This one also printed\n",
      "Outside the if statement\n"
     ]
    }
   ],
   "source": [
    "##example of indentation\n",
    "if True:\n",
    "    print(\"Correct Indentation\")\n",
    "    if False:\n",
    "        print(\"This one printed\")\n",
    "    print(\"This one also printed\")\n",
    "print(\"Outside the if statement\")"
   ]
  },
  {
   "cell_type": "code",
   "execution_count": null,
   "id": "697ab2e6",
   "metadata": {},
   "outputs": [],
   "source": []
  }
 ],
 "metadata": {
  "kernelspec": {
   "display_name": "Python 3",
   "language": "python",
   "name": "python3"
  },
  "language_info": {
   "codemirror_mode": {
    "name": "ipython",
    "version": 3
   },
   "file_extension": ".py",
   "mimetype": "text/x-python",
   "name": "python",
   "nbconvert_exporter": "python",
   "pygments_lexer": "ipython3",
   "version": "3.12.0"
  }
 },
 "nbformat": 4,
 "nbformat_minor": 5
}

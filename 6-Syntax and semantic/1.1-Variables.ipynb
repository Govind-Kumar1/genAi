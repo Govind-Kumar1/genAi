{
 "cells": [
  {
   "cell_type": "code",
   "execution_count": 1,
   "id": "25e74424",
   "metadata": {},
   "outputs": [
    {
     "name": "stdout",
     "output_type": "stream",
     "text": [
      "age 22\n",
      "height 6.2\n",
      "name Govind\n",
      "is_student True\n",
      "1 2 3\n",
      "10 10 10\n"
     ]
    }
   ],
   "source": [
    "##Declaring and assigning variables\n",
    "age=22\n",
    "height=6.2\n",
    "name=\"Govind\"\n",
    "is_student=True\n",
    "print(\"age\",age)\n",
    "print(\"height\",height)\n",
    "print(\"name\",name)\n",
    "print(\"is_student\",is_student)\n",
    "\n",
    "#Declaring multiple variables in a single line\n",
    "a,b,c=1,2,3\n",
    "print(a,b,c)\n",
    "\n",
    "#Declaring multiple variables with same value in a single line\n",
    "x=y=z=10\n",
    "print(x,y,z)\n",
    "\n",
    "\n"
   ]
  },
  {
   "cell_type": "code",
   "execution_count": 2,
   "id": "806d0765",
   "metadata": {},
   "outputs": [
    {
     "name": "stdout",
     "output_type": "stream",
     "text": [
      "<class 'int'>\n"
     ]
    }
   ],
   "source": [
    "##understanding Variable types\n",
    "## Python is dynamically typed language\n",
    "## Python is a high level language\n",
    "## Python is an interpreted language\n",
    "## Python is a platform independent language\n",
    "## Python is a case sensitive language\n",
    "## Python is an object oriented language\n",
    "## Python is a multi paradigm language\n",
    "\n",
    "age =22  ##integer\n",
    "height = 6.2 ##float\n",
    "name = \"Govind\" ##string\n",
    "is_student = True ##boolean\n",
    "print(type(age))\n",
    "\n",
    "\n"
   ]
  },
  {
   "cell_type": "code",
   "execution_count": 3,
   "id": "c2b60895",
   "metadata": {},
   "outputs": [
    {
     "name": "stdout",
     "output_type": "stream",
     "text": [
      "<class 'float'>\n",
      "10.0\n",
      "10\n",
      "10\n",
      "10\n"
     ]
    }
   ],
   "source": [
    "##type checking and conversion\n",
    "print(type(height))\n",
    "\n",
    "## Type Conversion\n",
    "## int to float\n",
    "a = 10\n",
    "b = float(a)\n",
    "print(b)\n",
    "## float to int\n",
    "a = 10.5\n",
    "b = int(a)\n",
    "print(b)\n",
    "\n",
    "## int to string\n",
    "a = 10\n",
    "b = str(a)\n",
    "print(b)\n",
    "## string to int\n",
    "a = \"10\"\n",
    "b = int(a)\n",
    "print(b)\n",
    "\n",
    "\n",
    "\n"
   ]
  },
  {
   "cell_type": "code",
   "execution_count": 4,
   "id": "1117aef2",
   "metadata": {},
   "outputs": [
    {
     "name": "stdout",
     "output_type": "stream",
     "text": [
      "10 <class 'int'>\n",
      "hello <class 'str'>\n"
     ]
    }
   ],
   "source": [
    "## Dynamic typing\n",
    "\n",
    "var =10\n",
    "print (var,type(var))\n",
    "\n",
    "var = \"hello\"\n",
    "print (var,type(var))\n"
   ]
  },
  {
   "cell_type": "code",
   "execution_count": null,
   "id": "501e2afa",
   "metadata": {},
   "outputs": [],
   "source": []
  }
 ],
 "metadata": {
  "kernelspec": {
   "display_name": "Python 3",
   "language": "python",
   "name": "python3"
  },
  "language_info": {
   "codemirror_mode": {
    "name": "ipython",
    "version": 3
   },
   "file_extension": ".py",
   "mimetype": "text/x-python",
   "name": "python",
   "nbconvert_exporter": "python",
   "pygments_lexer": "ipython3",
   "version": "3.12.0"
  }
 },
 "nbformat": 4,
 "nbformat_minor": 5
}

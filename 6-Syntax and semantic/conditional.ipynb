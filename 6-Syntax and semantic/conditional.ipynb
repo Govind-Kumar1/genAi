{
 "cells": [
  {
   "cell_type": "code",
   "execution_count": 9,
   "id": "527d9ef8",
   "metadata": {},
   "outputs": [
    {
     "name": "stdout",
     "output_type": "stream",
     "text": [
      "You are adult\n"
     ]
    }
   ],
   "source": [
    "#elif statement\n",
    "# else if\n",
    "##code\n",
    "age=20\n",
    "if(age< 13):\n",
    "    print(\"You are  child\")\n",
    "elif(age<18):\n",
    "    print(\"You are teenager\")\n",
    "else:\n",
    "    print(\"You are adult\")\n",
    "    "
   ]
  },
  {
   "cell_type": "code",
   "execution_count": 10,
   "id": "832a12d4",
   "metadata": {},
   "outputs": [
    {
     "name": "stdout",
     "output_type": "stream",
     "text": [
      "a is positive\n",
      "a is even\n"
     ]
    }
   ],
   "source": [
    "#nested if statement\n",
    "a=10\n",
    "if(a>0):\n",
    "    print(\"a is positive\")\n",
    "    if(a%2==0):\n",
    "        print(\"a is even\")\n",
    "    else:\n",
    "        print(\"a is odd\")"
   ]
  },
  {
   "cell_type": "code",
   "execution_count": 12,
   "id": "91a53660",
   "metadata": {},
   "outputs": [
    {
     "name": "stdout",
     "output_type": "stream",
     "text": [
      "Leap year\n"
     ]
    }
   ],
   "source": [
    "## Practicle Examples\n",
    "\n",
    "## Determine if a year is leap year or not\n",
    "year= int(input(\"Enter the year\"))\n",
    "if year%4==0:\n",
    "    if(year%100==0):\n",
    "        if(year%400==0):\n",
    "            print(\"Leap year\")\n",
    "        else: \n",
    "            print(\"Not a leap year\")\n",
    "    else:\n",
    "        print(\"Leap year\")\n",
    "else:\n",
    "    print(\"Not a leap year\")"
   ]
  },
  {
   "cell_type": "code",
   "execution_count": 13,
   "id": "99f9947c",
   "metadata": {},
   "outputs": [],
   "source": [
    "## Assignment "
   ]
  },
  {
   "cell_type": "code",
   "execution_count": 15,
   "id": "eaa29d73",
   "metadata": {},
   "outputs": [
    {
     "name": "stdout",
     "output_type": "stream",
     "text": [
      "Result: 40.0\n"
     ]
    }
   ],
   "source": [
    "## Simple calculator\n",
    "num1=float(input(\"Enter first number: \"))\n",
    "num2=float(input(\"Enter second number: \"))\n",
    "operation=input(\"Enter operation (+, -, *, /): \")\n",
    "if operation==\"+\":\n",
    "    result=num1+num2\n",
    "elif operation==\"-\":\n",
    "    result=num1-num2\n",
    "elif operation==\"*\":\n",
    "    result=num1*num2\n",
    "elif operation==\"/\":\n",
    "    if num2!=0:\n",
    "        result=num1/num2\n",
    "    else:\n",
    "        result=\"Error! Division by zero.\"\n",
    "else:\n",
    "    result=\"Invalid operation.\"\n",
    "print(\"Result:\", result)\n"
   ]
  },
  {
   "cell_type": "code",
   "execution_count": null,
   "id": "76250b57",
   "metadata": {},
   "outputs": [],
   "source": []
  }
 ],
 "metadata": {
  "kernelspec": {
   "display_name": "Python 3",
   "language": "python",
   "name": "python3"
  },
  "language_info": {
   "codemirror_mode": {
    "name": "ipython",
    "version": 3
   },
   "file_extension": ".py",
   "mimetype": "text/x-python",
   "name": "python",
   "nbconvert_exporter": "python",
   "pygments_lexer": "ipython3",
   "version": "3.12.0"
  }
 },
 "nbformat": 4,
 "nbformat_minor": 5
}
